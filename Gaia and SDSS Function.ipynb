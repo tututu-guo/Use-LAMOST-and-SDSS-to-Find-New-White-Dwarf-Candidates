{
 "cells": [
  {
   "cell_type": "markdown",
   "id": "4cfd6ecf-07f4-428d-bdca-4abc788f2d38",
   "metadata": {},
   "source": [
    "## __Pick up Gaia EDR3 Data__ ##"
   ]
  },
  {
   "cell_type": "markdown",
   "id": "6378763f-4375-4f47-8ea9-67b86f6bd7c7",
   "metadata": {},
   "source": [
    "__You can obtain the required files from the following website：__\n",
    "https://warwick.ac.uk/fac/sci/physics/research/astro/research/catalogues/gaiaedr3_wd_main.fits.gz  \n",
    " (from article,  $\\textit{A catalogue of white dwarfs in Gaia EDR3}$  "
   ]
  },
  {
   "cell_type": "markdown",
   "id": "3f53a473-4baf-456e-9c12-48824ab1cb07",
   "metadata": {},
   "source": [
    "* __the following codes are to create a substitutable, simplified *.csv__  \n",
    "( only included ra, dec, Pwd, mag and WDJ_name  \n",
    "( the simplified file is in a 'temp' folder in the same folder as your file, gaiaedr3_wd_main.fits.gz"
   ]
  },
  {
   "cell_type": "code",
   "execution_count": 1,
   "id": "9e8c2344-d055-4f15-9f09-d1c3ca8ac375",
   "metadata": {
    "tags": []
   },
   "outputs": [],
   "source": [
    "# the needed module import\n",
    "# used to read the fits\n",
    "from astropy.io import fits \n",
    "\n",
    "# used to desgin functions to simplify the code\n",
    "from tqdm import tqdm, trange # not necessary, just a visible progress bar\n",
    "\n",
    "# to create a new csv\n",
    "import csv\n",
    "import os\n",
    "from pathlib import Path"
   ]
  },
  {
   "cell_type": "code",
   "execution_count": 2,
   "id": "ecfeda55-d400-4bf7-9385-fe1e768f225d",
   "metadata": {
    "tags": []
   },
   "outputs": [],
   "source": [
    "path = 'C:/Users/Administrator/Desktop/大创/Data' #the path you saved the gaiaedr3_wd_main.fits.gz\n",
    "name_list = ['WDJ_name','ra','dec','Pwd','phot_g_mean_mag_corrected']\n",
    "Pwd_limitation = 0.75 #the minimum of Pwd\n",
    "mag_limitation = [18, None]#the range of mag"
   ]
  },
  {
   "cell_type": "code",
   "execution_count": 3,
   "id": "ec146231-ef68-4cd4-97a0-6608197eb8ae",
   "metadata": {
    "tags": []
   },
   "outputs": [],
   "source": [
    "class InputError(Exception):\n",
    "    pass\n",
    "def Gaia_EDR3_Data_Split(path,\n",
    "                        name_list,\n",
    "                        Pwd_limitation,\n",
    "                        mag_limitation,\n",
    "                        next_folder = 'Gaia',\n",
    "                        file_create = True,\n",
    "                        return_data = False):\n",
    "    \n",
    "    #through Pwd and phot_g_mean_mag_corrected\n",
    "    if 0 > Pwd_limitation or Pwd_limitation >= 1:\n",
    "        raise InputError ('Pwd_limitation should in [0, 1)')\n",
    "    if len(mag_limitation) != 2:\n",
    "        raise InputError ('mag_limitation should be a list with 2 element or NoneType')\n",
    "    \n",
    "    if 'WDJ_name' not in name_list:\n",
    "        name_list.insert(0 , 'WDJ_name')\n",
    "    elif name_list[0] != 'WDJ_name':\n",
    "        temp = name_list[0]\n",
    "        name_list[0] = 'WDJ_name'\n",
    "        for i in range(1, len(name_list)):\n",
    "            if name_list[i] == 'WDJ_name':\n",
    "                name_list[i] = temp\n",
    "                temp = None\n",
    "                break\n",
    "    if path[len(path) - 1] == '/':\n",
    "        path = path + 'gaiaedr3_wd_main.fits.gz'\n",
    "    elif Path(path).parts[len(Path(path).parts)-1] != 'gaiaedr3_wd_main.fits.gz':\n",
    "        path = path + '/' + 'gaiaedr3_wd_main.fits.gz'\n",
    "        \n",
    "    try:\n",
    "        fits_file = fits.open(path)\n",
    "    except FileNotFoundError:\n",
    "        print('Wrong path of gaiaedr3_wd_main.fits.gz')\n",
    "    else:\n",
    "        fits_file_num = fits_file[1].header['NAXIS2']   # the total number of WDs in GaiaEDR3_WD_main.fits\n",
    "        fits_file_data = fits_file[1].data   # pre-load the data\n",
    "        fits_file.close()\n",
    "        \n",
    "        Pwd = fits_file_data.field('Pwd')\n",
    "        Mag = fits_file_data.field('phot_g_mean_mag_corrected')\n",
    "        \n",
    "        data = []\n",
    "        for j in trange(0 , fits_file_num):\n",
    "            if Pwd[j] > Pwd_limitation:\n",
    "                if mag_limitation[0] is not None and mag_limitation[1] is not None:\n",
    "                    if mag_limitation[0] < Mag[j] <= mag_limitation[1]:\n",
    "                        temp = []\n",
    "                        for i in range(len(name_list)):\n",
    "                            temp.append(fits_file_data.field(name_list[i])[j])\n",
    "                        data.append(temp)\n",
    "                \n",
    "                elif mag_limitation[0] is not None or mag_limitation[1] is not None:\n",
    "                    if mag_limitation[0] is not None:\n",
    "                        if mag_limitation[0] < Mag[j]:\n",
    "                            temp = []\n",
    "                            for i in range(len(name_list)):\n",
    "                                temp.append(fits_file_data.field(name_list[i])[j])\n",
    "                            data.append(temp)\n",
    "                    \n",
    "                    else:\n",
    "                        if Mag[j] <= mag_limitation[1]:\n",
    "                            temp = []\n",
    "                            for i in range(len(name_list)):\n",
    "                                temp.append(fits_file_data.field(name_list[i])[j])\n",
    "                            data.append(temp)\n",
    "                    \n",
    "                else:\n",
    "                    temp = []\n",
    "                    for i in range(len(name_list)):\n",
    "                        temp.append(fits_file_data.field(name_list[i])[j])\n",
    "                    data.append(temp)\n",
    "        if file_create:\n",
    "            Gaia_Simplified_File_Create(path, next_folder, mag_limitation, name_list, data)\n",
    "        if return_data:\n",
    "            return data"
   ]
  },
  {
   "cell_type": "code",
   "execution_count": 4,
   "id": "75b9a809-2ab2-496a-892b-ca74c8c97e3c",
   "metadata": {
    "tags": []
   },
   "outputs": [],
   "source": [
    "def Gaia_Simplified_File_Create(path,\n",
    "                                next_folder,\n",
    "                                mag_limitation,\n",
    "                                name_list,\n",
    "                                data):\n",
    "    path = path.replace('gaiaedr3_wd_main.fits.gz' , next_folder)\n",
    "    if not os.path.exists(path):\n",
    "        os.makedirs(path)\n",
    "        \n",
    "# 以写方式打开文件。注意添加 newline=\"\"，否则会在两行数据之间都插入一行空白。\n",
    "    with open(path+'/selected_data_{0}_{1}.csv'.format(mag_limitation[0] , mag_limitation[1]), mode=\"w\", encoding=\"utf-8-sig\", newline=\"\") as f:\n",
    "        writer = csv.writer(f)\n",
    "        writer.writerow(name_list)\n",
    "        writer.writerows(data)"
   ]
  },
  {
   "cell_type": "code",
   "execution_count": 5,
   "id": "991f3cc7-5490-456b-b7cc-fbcaeb5674c3",
   "metadata": {
    "tags": []
   },
   "outputs": [
    {
     "name": "stderr",
     "output_type": "stream",
     "text": [
      "100%|██████████| 1280266/1280266 [00:51<00:00, 24716.91it/s]\n"
     ]
    }
   ],
   "source": [
    "Gaia_EDR3_Data_Split(path, name_list, Pwd_limitation, mag_limitation)"
   ]
  },
  {
   "cell_type": "code",
   "execution_count": null,
   "id": "d51097ee-c51b-427e-9c5c-14332c497ef2",
   "metadata": {},
   "outputs": [],
   "source": []
  },
  {
   "cell_type": "code",
   "execution_count": null,
   "id": "355fd5b8-68e8-4f15-b58d-925e083e02fd",
   "metadata": {},
   "outputs": [],
   "source": []
  }
 ],
 "metadata": {
  "kernelspec": {
   "display_name": "Python 3 (ipykernel)",
   "language": "python",
   "name": "python3"
  },
  "language_info": {
   "codemirror_mode": {
    "name": "ipython",
    "version": 3
   },
   "file_extension": ".py",
   "mimetype": "text/x-python",
   "name": "python",
   "nbconvert_exporter": "python",
   "pygments_lexer": "ipython3",
   "version": "3.11.5"
  }
 },
 "nbformat": 4,
 "nbformat_minor": 5
}
