{
 "cells": [
  {
   "cell_type": "markdown",
   "id": "38715605-80b8-4564-a414-7aa1cbb1e9b6",
   "metadata": {},
   "source": [
    "# **SDSS光谱筛选**"
   ]
  },
  {
   "cell_type": "markdown",
   "id": "199b52c9-a274-4233-8f23-da28d870ab43",
   "metadata": {},
   "source": [
    "* 此输出为含有plate,mjd,fiberID与SDSS的subclass的csv表格\n",
    "（SDSS的分类并不准确需要注意）\n",
    "* 输入为SDSS存下的hdu文件，若需要输入fits文件需要先行打开为hdu文件"
   ]
  },
  {
   "cell_type": "code",
   "execution_count": null,
   "id": "00073f6a-9694-47d4-b4fc-058d0b0f70d7",
   "metadata": {
    "tags": []
   },
   "outputs": [],
   "source": [
    "import math\n",
    "import os\n",
    "import matplotlib.pyplot as plt\n",
    "from matplotlib.ticker import MultipleLocator\n",
    "\n",
    "import numpy as np\n",
    "from astropy.io import fits\n",
    "\n",
    "import scipy.interpolate as spi\n",
    "from sklearn.preprocessing import MinMaxScaler\n",
    "import cv2\n",
    "\n",
    "from pathlib import Path\n",
    "from tqdm import tqdm, trange"
   ]
  },
  {
   "cell_type": "code",
   "execution_count": null,
   "id": "c1991767-868d-488c-8360-a65767522c13",
   "metadata": {
    "tags": []
   },
   "outputs": [],
   "source": [
    "DB = {\n",
    "    4471 : 'He I'\n",
    "};\n",
    "\n",
    "DZ = {\n",
    "    3933.7:'Ca II K',\n",
    "    3968.5:'Ca II H',\n",
    "};"
   ]
  },
  {
   "cell_type": "code",
   "execution_count": null,
   "id": "9c6cd33c-8105-4ddb-ac5f-154e1cb80494",
   "metadata": {
    "tags": []
   },
   "outputs": [],
   "source": [
    "def maincheck(data, \n",
    "         check_lines_dict,\n",
    "         delta = 3.5e-06,\n",
    "         center_broading = 5,\n",
    "         peripheral_broading = 15):\n",
    "    check_lines = [list(check_lines_dict.keys()) ,list(check_lines_dict.values())]\n",
    "    name = []\n",
    "    data\n",
    "    for i in trange(0,len(data)):\n",
    "        p = Lines_check(data[i], \n",
    "                       check_lines, \n",
    "                       delta = delta, \n",
    "                       center_broading = center_broading, \n",
    "                       peripheral_broading = peripheral_broading)\n",
    "        if p != -1:\n",
    "            name.append(p)\n",
    "    return name"
   ]
  },
  {
   "cell_type": "code",
   "execution_count": null,
   "id": "4b6244fd-d601-43d8-9ad0-7750423d5e26",
   "metadata": {
    "tags": []
   },
   "outputs": [],
   "source": [
    "def Delta_cal(x,\n",
    "              y,\n",
    "              line,\n",
    "              center_broading,\n",
    "              peripheral_broading\n",
    "             ):\n",
    "    ave_c = sum(y[(line - center_broading < x)&(x < line + center_broading)]) / len(y[(line - center_broading < x)&(x < line + center_broading)])\n",
    "            \n",
    "    ave_p = ((sum(y[(line + center_broading < x)&(x < line + center_broading + peripheral_broading)]) \n",
    "             + sum(y[(line - center_broading - peripheral_broading < x)&(x < line - center_broading)])) \n",
    "             / (len(y[(line + center_broading < x)&(x < line + center_broading + peripheral_broading)]) \n",
    "                + len(y[(line - center_broading - peripheral_broading < x)&(x < line - center_broading)])))\n",
    "    return (ave_p - ave_c) / (max(y) - min(y))"
   ]
  },
  {
   "cell_type": "code",
   "execution_count": null,
   "id": "abfe2ec9-118a-47aa-bfb0-d6650cf704bd",
   "metadata": {
    "tags": []
   },
   "outputs": [],
   "source": [
    "def Lines_check(file,\n",
    "                lines,\n",
    "                delta,\n",
    "                center_broading,\n",
    "                peripheral_broading\n",
    "               ):\n",
    "    file_fits = file[0]\n",
    "    x = 10**file_fits[1].data['loglam']\n",
    "    y = file_fits[1].data['flux']\n",
    "    z = file_fits[2].data['Z']\n",
    "    p=file_fits[2].data['plate']\n",
    "    m=file_fits[2].data['mjd']\n",
    "    f=file_fits[2].data['fiberID']\n",
    "    #ra=file_fits[2].data['ra']\n",
    "    #dec=file_fits[2].data['dec']\n",
    "    #sng = file_fits[0].header['SNRU']\n",
    "    subclass = file_fits[2].data['subclass']\n",
    "    file_fits.close()\n",
    "    \n",
    "    ipo = spi.splrep(x , y , k = 3)\n",
    "    X = x\n",
    "    Y = spi.splev(X, ipo)\n",
    "    Y = cv2.GaussianBlur(src = Y, ksize = (29, 29), sigmaX = 5)\n",
    "    \n",
    "    #if sng > 10 and subclass == 'WD':\n",
    "    line = []\n",
    "    if z == -9999:\n",
    "        z = 0\n",
    "    for i in range(0,len(lines[0])):\n",
    "        line.append(lines[0][i] / (z + 1))\n",
    "    text = [int(p),int(m),int(f),subclass]\n",
    "    flag = 0\n",
    "    n = 0\n",
    "\n",
    "    for i in range(0,len(line)):\n",
    "        if min(x) <= line[i] <= max(x):\n",
    "            n = n + 1\n",
    "            delta0 = Delta_cal(x, y, line[i], center_broading, peripheral_broading)\n",
    "            delta1 = Delta_cal(X, Y, line[i], center_broading, peripheral_broading)\n",
    "            if delta0 >= delta and delta1 >= delta:\n",
    "                flag = flag + 1\n",
    "    if flag == n and n != 0:\n",
    "        return text\n",
    "    else:\n",
    "        return -1"
   ]
  },
  {
   "cell_type": "code",
   "execution_count": null,
   "id": "beca44d4-28b9-432d-acdc-3c3660c11976",
   "metadata": {
    "tags": []
   },
   "outputs": [],
   "source": [
    "name = maincheck(sp[2000:], DZ)"
   ]
  },
  {
   "cell_type": "code",
   "execution_count": null,
   "id": "94127725-6e28-4d51-b3f4-ec7d70486063",
   "metadata": {},
   "outputs": [],
   "source": [
    "import pandas as pd\n",
    " \n",
    "column=['plate','mjd','fiberID','subclass'] # 列表对应每列的列名\n",
    " \n",
    "test=pd.DataFrame(columns=column,data=name)\n",
    " \n",
    "test.to_csv('C:/Users/Lenovo/Desktop/polluted white dwalf/sdss/last/test2.csv') # 如果生成excel，可以用to_excel"
   ]
  }
 ],
 "metadata": {
  "kernelspec": {
   "display_name": "Python 3 (ipykernel)",
   "language": "python",
   "name": "python3"
  },
  "language_info": {
   "codemirror_mode": {
    "name": "ipython",
    "version": 3
   },
   "file_extension": ".py",
   "mimetype": "text/x-python",
   "name": "python",
   "nbconvert_exporter": "python",
   "pygments_lexer": "ipython3",
   "version": "3.11.5"
  }
 },
 "nbformat": 4,
 "nbformat_minor": 5
}
