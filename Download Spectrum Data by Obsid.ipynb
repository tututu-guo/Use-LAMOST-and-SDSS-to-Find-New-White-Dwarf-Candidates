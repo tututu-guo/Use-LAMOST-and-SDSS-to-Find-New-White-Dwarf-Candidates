{
 "cells": [
  {
   "cell_type": "markdown",
   "id": "ba462634-c688-4da3-87d8-cad4976e849c",
   "metadata": {},
   "source": [
    "## __Download Spectrum Data by Obsid__ ##"
   ]
  },
  {
   "cell_type": "markdown",
   "id": "26d77b25-112b-4982-b5e9-4dc9cfc84214",
   "metadata": {},
   "source": [
    "* Using threading module can accelerate downloading the spectrum fits a lot  \n",
    "__But there may still be some warnings__"
   ]
  },
  {
   "cell_type": "code",
   "execution_count": 1,
   "id": "5af5c5d2-fe1f-4fc5-a83a-5ad4fae591b9",
   "metadata": {},
   "outputs": [],
   "source": [
    "# necessary module\n",
    "import urllib as url\n",
    "from urllib.parse import urlparse\n",
    "\n",
    "import threading\n",
    "\n",
    "import pandas as pd\n",
    "import re\n",
    "import os\n",
    "from tqdm import tqdm, trange"
   ]
  },
  {
   "cell_type": "code",
   "execution_count": 2,
   "id": "089932f0-09cd-4447-80a4-ceef4348ce52",
   "metadata": {},
   "outputs": [],
   "source": [
    "cross_match_file = r'C:\\Users\\Administrator\\Desktop\\大创\\Data\\temp\\selected_data_None_None_cross_match.csv'\n",
    "source = pd.read_csv(cross_match_file ,sep = '|' ,index_col = ['combined_obsid'])\n",
    "obsid = list(source.T)\n",
    "source = pd.read_csv(cross_match_file ,sep = '|' ,index_col = ['inputobjs_input_id'])\n",
    "input_id = list(source.T)"
   ]
  },
  {
   "cell_type": "code",
   "execution_count": 3,
   "id": "6525733c-e5a5-4615-babc-4dbd82e5b940",
   "metadata": {
    "tags": []
   },
   "outputs": [
    {
     "name": "stderr",
     "output_type": "stream",
     "text": [
      "100%|██████████| 9270/9270 [00:00<00:00, 1159352.30it/s]\n"
     ]
    }
   ],
   "source": [
    "source_file = r'C:\\Users\\Administrator\\Desktop\\大创\\Data\\temp\\selected_data_None_None.csv'\n",
    "source = pd.read_csv(source_file ,index_col = ['EDJ_name'])\n",
    "name = list(source.T)\n",
    "source = None\n",
    "match_name = []\n",
    "for i in trange(0 ,len(input_id)):\n",
    "    match_name.append(name[input_id[i]])"
   ]
  },
  {
   "cell_type": "code",
   "execution_count": 4,
   "id": "111c5654-6777-4f70-9505-41379349ef12",
   "metadata": {},
   "outputs": [],
   "source": [
    "def file_load_in(file_name , save_path , data):\n",
    "    try:\n",
    "        save_file = save_path +'/'+ file_name \n",
    "        with open(save_file, 'wb+') as fh:\n",
    "            fh.write(data)\n",
    "            fh.close()\n",
    "    except FileExistsError as e:\n",
    "        print(file_name)\n",
    "        \n",
    "def download(link , save_path , matchs = None):\n",
    "    #pool_sema.acquire() \n",
    "    for attempt in range(0,6):\n",
    "        try:\n",
    "            response = url.request.urlopen(link, timeout = 0.5)\n",
    "            file_name = response.getheader(\"Content-disposition\").split('=')[1]\n",
    "            data = response.read()\n",
    "        except Exception as e:\n",
    "            if attempt == 5:\n",
    "                print('unsuccess to download -- ' + link)\n",
    "                print(save_path)\n",
    "        else: \n",
    "            if isinstance(matchs , str):\n",
    "                save_path_folder = save_path + '/' + matchs\n",
    "                query = url.parse.urlparse(link).path\n",
    "                save_path_folder = save_path_folder + '/' + str(re.findall(\"\\d+\",query)[3])\n",
    "            else:\n",
    "                query = url.parse.urlparse(link).path\n",
    "                save_path_folder = save_path + '/' + str(re.findall(\"\\d+\",query)[3])\n",
    "                \n",
    "            if not os.path.exists(save_path_folder):\n",
    "                os.makedirs(save_path_folder)\n",
    "            file_load_in(file_name , save_path_folder , data)\n",
    "            break\n",
    "    #pool_sema.release()"
   ]
  },
  {
   "cell_type": "code",
   "execution_count": 5,
   "id": "95529f54-fcca-43b7-a7bd-9cf50b3c1e0c",
   "metadata": {},
   "outputs": [
    {
     "name": "stderr",
     "output_type": "stream",
     "text": [
      "100%|██████████| 9270/9270 [00:00<00:00, 371035.66it/s]\n"
     ]
    }
   ],
   "source": [
    "urls = []\n",
    "for i in trange(0,len(obsid)):\n",
    "    link='http://www.lamost.org:80/dr8/v2.0/spectrum/fits/{0}?token='.format(obsid[i])\n",
    "    urls.append(link)"
   ]
  },
  {
   "cell_type": "code",
   "execution_count": 6,
   "id": "5a353f7c-d620-414d-ad5c-2ae9588d2aa7",
   "metadata": {},
   "outputs": [
    {
     "name": "stderr",
     "output_type": "stream",
     "text": [
      "100%|██████████| 9270/9270 [00:02<00:00, 4486.73it/s]\n"
     ]
    }
   ],
   "source": [
    "threads = []\n",
    "for i in trange(len(urls)):\n",
    "    t = threading.Thread(target = download, args=(urls[i] ,r'C:\\Users\\Administrator\\Desktop\\大创\\Data\\temp\\test1' ,match_name[i]))\n",
    "    threads.append(t)"
   ]
  },
  {
   "cell_type": "code",
   "execution_count": 6,
   "id": "c7c17e59-66c6-4b17-af94-260193673ea6",
   "metadata": {
    "tags": []
   },
   "outputs": [
    {
     "name": "stderr",
     "output_type": "stream",
     "text": [
      "100%|██████████| 9270/9270 [00:00<00:00, 19903.23it/s]\n"
     ]
    },
    {
     "name": "stdout",
     "output_type": "stream",
     "text": [
      "unsuccess to download\n",
      "unsuccess to download\n",
      "unsuccess to download\n"
     ]
    }
   ],
   "source": [
    "from concurrent.futures import ThreadPoolExecutor,as_completed\n",
    "if __name__ == '__main__':\n",
    "    e = []\n",
    "    threads = []\n",
    "    executor = ThreadPoolExecutor(max_workers=2)\n",
    "    for i in trange(len(urls)):\n",
    "        t = executor.submit(download, urls[i] ,r'C:\\Users\\Administrator\\Desktop\\大创\\Data\\temp\\test1' ,match_name[i])\n",
    "        threads.append(t)\n",
    "    for i in as_completed(threads):\n",
    "        e.append(i.result())\n",
    "    executor.shutdown()\n"
   ]
  },
  {
   "cell_type": "code",
   "execution_count": null,
   "id": "74f4cb33-880e-47e4-85e3-7ad023bac1c7",
   "metadata": {},
   "outputs": [],
   "source": []
  },
  {
   "cell_type": "code",
   "execution_count": null,
   "id": "6fb89242-761c-4c28-af1e-3d015b1274c8",
   "metadata": {},
   "outputs": [],
   "source": []
  }
 ],
 "metadata": {
  "kernelspec": {
   "display_name": "Python 3 (ipykernel)",
   "language": "python",
   "name": "python3"
  },
  "language_info": {
   "codemirror_mode": {
    "name": "ipython",
    "version": 3
   },
   "file_extension": ".py",
   "mimetype": "text/x-python",
   "name": "python",
   "nbconvert_exporter": "python",
   "pygments_lexer": "ipython3",
   "version": "3.11.5"
  }
 },
 "nbformat": 4,
 "nbformat_minor": 5
}
