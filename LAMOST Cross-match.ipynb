{
 "cells": [
  {
   "cell_type": "markdown",
   "id": "690166e8-76d0-48e4-b072-11e2bdfbaf1e",
   "metadata": {},
   "source": [
    "## __Cross-match with LAMOST by Radius Search__ ##"
   ]
  },
  {
   "cell_type": "markdown",
   "id": "e46e4571-57a7-4073-8086-da464e3a6f7a",
   "metadata": {},
   "source": [
    "* __only support a *.csv with ra and dec list__  \n",
    " ( the result file is in the same folder as your csv file"
   ]
  },
  {
   "cell_type": "code",
   "execution_count": 1,
   "id": "7c0f7613-3fd0-4a96-b5ab-6ae58b1cb7ca",
   "metadata": {},
   "outputs": [],
   "source": [
    "# the necessary info\n",
    "csv_dir = r'C:\\Users\\Administrator\\Desktop\\大创\\Data\\temp'\n",
    "csv_name = r'selected_data_18_None'\n",
    "search_distance_sec = 5.0 # radius [arcsec]\n",
    "flag = True # Web Search Visualization: True is visible and False is not"
   ]
  },
  {
   "cell_type": "code",
   "execution_count": 2,
   "id": "98d934e2-a194-4574-b57e-d53863beeb72",
   "metadata": {},
   "outputs": [],
   "source": [
    "# the needed module import\n",
    "import pandas as pd   \n",
    "import os\n",
    "from tqdm import tqdm, trange   # not necessary, just a visible progress bar"
   ]
  },
  {
   "cell_type": "code",
   "execution_count": 3,
   "id": "db42e9c9-2c31-4111-94e0-7cfcaafb8cde",
   "metadata": {},
   "outputs": [],
   "source": [
    "csv_file = csv_dir + '/' + csv_name + '.csv'\n",
    "num = sum(1 for line in open(csv_file))-1\n",
    "source = pd.read_csv(csv_file , index_col = ['ra'])\n",
    "Ra = list(source.T)\n",
    "source = pd.read_csv(csv_file , index_col = ['dec'])\n",
    "Dec = list(source.T)\n",
    "source = ''"
   ]
  },
  {
   "cell_type": "code",
   "execution_count": 4,
   "id": "22b394ca-ba0e-4bec-9643-2522c03aeb9f",
   "metadata": {},
   "outputs": [
    {
     "name": "stderr",
     "output_type": "stream",
     "text": [
      "100%|██████████| 336066/336066 [00:01<00:00, 231631.47it/s]\n"
     ]
    }
   ],
   "source": [
    "temp_txt = csv_dir + '/' + csv_name + '.txt'\n",
    "work = open(temp_txt , mode='w')\n",
    "for j in trange(0,num):\n",
    "    work.write(str(Ra[j]) + ',' + str(Dec[j]) + ',' + str(search_distance_sec) + '\\n')\n",
    "work.close()"
   ]
  },
  {
   "cell_type": "code",
   "execution_count": 5,
   "id": "20053c56-0161-4e23-b819-2fb545147d61",
   "metadata": {},
   "outputs": [],
   "source": [
    "# the needed module import\n",
    "from selenium import webdriver\n",
    "from selenium.webdriver.common.by import By\n",
    "from selenium.webdriver.edge.options import Options\n",
    "import time\n",
    "\n",
    "import urllib as url\n",
    "import os\n",
    "\n",
    "import re"
   ]
  },
  {
   "cell_type": "code",
   "execution_count": 6,
   "id": "50132b70-366c-4a59-945b-12f97eee46ec",
   "metadata": {},
   "outputs": [],
   "source": [
    "#displayed or not setting\n",
    "opt = Options()\n",
    "if flag is not True:\n",
    "    opt.add_argument('--headless')\n",
    "driver = webdriver.Edge(options = opt)"
   ]
  },
  {
   "cell_type": "code",
   "execution_count": 7,
   "id": "a0fd93c5-3b81-4c93-b581-48d49c7394b9",
   "metadata": {
    "tags": []
   },
   "outputs": [],
   "source": [
    "driver.get('http://www.lamost.org/dr8/v2.0/search')\n",
    "#上传\n",
    "driver.find_element(By.XPATH,\"//html/body/div[2]/form/div[2]/div[1]/div/table/tbody/tr[4]/td[3]/input\").send_keys(temp_txt)\n",
    "#选择 proximity 查找\n",
    "driver.find_element(By.XPATH,\"//html/body/div[2]/form/div[2]/div[1]/div/table/tbody/tr[4]/td[1]/span/input\").click()\n",
    "#点击 search\n",
    "driver.find_element(By.XPATH,\"//html/body/div[2]/form/div[2]/div[2]/input[1]\").click()\n",
    "#HTML进入跳转页面并等待3s，防止页面未显示\n",
    "driver.switch_to.window(driver.window_handles[-1])\n",
    "time.sleep(3)"
   ]
  },
  {
   "cell_type": "code",
   "execution_count": 8,
   "id": "a225bdd6-ba46-49c6-ab2b-7eff0f629c12",
   "metadata": {},
   "outputs": [],
   "source": [
    "#获取sqlid，以便导出匹配结果\n",
    "query = url.parse.urlparse(driver.current_url).query\n",
    "sqlid = re.findall(\"\\d+\",query)[0]\n",
    "driver.close()"
   ]
  },
  {
   "cell_type": "code",
   "execution_count": 9,
   "id": "3379754d-ca79-41d0-bba2-64120bafdbbd",
   "metadata": {},
   "outputs": [],
   "source": [
    "#匹配结果下载\n",
    "response = url.request.urlopen('http://www.lamost.org/dr8/v2.0/sqlidall/{0}?output.fmt=csv&'.format(sqlid))\n",
    "name = response.getheader(\"Content-disposition\").split('=')[1]\n",
    "data = response.read()\n",
    "savefile = csv_dir + '/' + name\n",
    "with open(savefile , 'wb+') as fh:\n",
    "    fh.write(data)\n",
    "    fh.close()\n",
    "result_file = csv_dir + '/' + csv_name + '_cross_match.csv'\n",
    "os.rename(savefile , result_file)"
   ]
  },
  {
   "cell_type": "code",
   "execution_count": null,
   "id": "a51cb93d-6cde-4a41-ad88-ceb96c12e8dd",
   "metadata": {},
   "outputs": [],
   "source": []
  }
 ],
 "metadata": {
  "kernelspec": {
   "display_name": "Python 3 (ipykernel)",
   "language": "python",
   "name": "python3"
  },
  "language_info": {
   "codemirror_mode": {
    "name": "ipython",
    "version": 3
   },
   "file_extension": ".py",
   "mimetype": "text/x-python",
   "name": "python",
   "nbconvert_exporter": "python",
   "pygments_lexer": "ipython3",
   "version": "3.11.5"
  }
 },
 "nbformat": 4,
 "nbformat_minor": 5
}
